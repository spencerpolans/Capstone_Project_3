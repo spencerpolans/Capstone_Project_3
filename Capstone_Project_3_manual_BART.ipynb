{
  "cells": [
    {
      "cell_type": "markdown",
      "id": "297aae51",
      "metadata": {
        "id": "297aae51"
      },
      "source": [
        "## Imports"
      ]
    },
    {
      "cell_type": "code",
      "execution_count": 10,
      "id": "BBZ3aRYEyPF-",
      "metadata": {
        "id": "BBZ3aRYEyPF-"
      },
      "outputs": [],
      "source": [
        "# !pip install numpy==1.26.4"
      ]
    },
    {
      "cell_type": "code",
      "execution_count": 11,
      "id": "95713470",
      "metadata": {
        "id": "95713470"
      },
      "outputs": [],
      "source": [
        "import pandas as pd\n",
        "import matplotlib.pyplot as plt\n"
      ]
    },
    {
      "cell_type": "code",
      "execution_count": 12,
      "id": "c3e816e4",
      "metadata": {
        "colab": {
          "base_uri": "https://localhost:8080/",
          "height": 144
        },
        "id": "c3e816e4",
        "outputId": "ab019e71-ceb9-4386-b22a-741be3420e97"
      },
      "outputs": [],
      "source": [
        "# from google.colab import files\n",
        "\n",
        "# uploaded = files.upload()  # Prompts you to upload files interactively"
      ]
    },
    {
      "cell_type": "markdown",
      "id": "16ff24d7",
      "metadata": {
        "id": "16ff24d7"
      },
      "source": [
        "## Step 1.1: Load SAMSum Dataset and Explore Its Structure"
      ]
    },
    {
      "cell_type": "code",
      "execution_count": 13,
      "id": "24d2b69a",
      "metadata": {
        "colab": {
          "base_uri": "https://localhost:8080/"
        },
        "id": "24d2b69a",
        "outputId": "b3eb9122-3436-4bfd-8330-fde75cdb361c"
      },
      "outputs": [
        {
          "name": "stdout",
          "output_type": "stream",
          "text": [
            "         id                                           dialogue  \\\n",
            "0  13818513  Amanda: I baked  cookies. Do you want some?\\nJ...   \n",
            "1  13728867  Olivia: Who are you voting for in this electio...   \n",
            "2  13681000  Tim: Hi, what's up?\\nKim: Bad mood tbh, I was ...   \n",
            "3  13730747  Edward: Rachel, I think I'm in ove with Bella....   \n",
            "4  13728094  Sam: hey  overheard rick say something\\nSam: i...   \n",
            "\n",
            "                                             summary  \n",
            "0  Amanda baked cookies and will bring Jerry some...  \n",
            "1  Olivia and Olivier are voting for liberals in ...  \n",
            "2  Kim may try the pomodoro technique recommended...  \n",
            "3  Edward thinks he is in love with Bella. Rachel...  \n",
            "4  Sam is confused, because he overheard Rick com...  \n"
          ]
        }
      ],
      "source": [
        "# Load the CSVs\n",
        "train_df = pd.read_csv(\"train.csv\")\n",
        "val_df = pd.read_csv(\"validation.csv\")\n",
        "test_df = pd.read_csv(\"test.csv\")\n",
        "print(train_df.head())"
      ]
    },
    {
      "cell_type": "code",
      "execution_count": 14,
      "id": "ea7234f3",
      "metadata": {
        "id": "ea7234f3"
      },
      "outputs": [],
      "source": [
        "# Clean train set\n",
        "train_df = train_df.dropna(subset=[\"dialogue\", \"summary\"]).copy()\n",
        "train_df = train_df[train_df[\"dialogue\"].apply(lambda x: isinstance(x, str) and x.strip() != \"\")]\n",
        "train_df = train_df[train_df[\"summary\"].apply(lambda x: isinstance(x, str) and x.strip() != \"\")]\n",
        "train_df = train_df.reset_index(drop=True)\n",
        "\n",
        "# Repeat for val and test\n",
        "val_df = val_df.dropna(subset=[\"dialogue\", \"summary\"]).copy()\n",
        "val_df = val_df[val_df[\"dialogue\"].apply(lambda x: isinstance(x, str) and x.strip() != \"\")]\n",
        "val_df = val_df[val_df[\"summary\"].apply(lambda x: isinstance(x, str) and x.strip() != \"\")]\n",
        "val_df = val_df.reset_index(drop=True)\n",
        "\n",
        "test_df = test_df.dropna(subset=[\"dialogue\", \"summary\"]).copy()\n",
        "test_df = test_df[test_df[\"dialogue\"].apply(lambda x: isinstance(x, str) and x.strip() != \"\")]\n",
        "test_df = test_df[test_df[\"summary\"].apply(lambda x: isinstance(x, str) and x.strip() != \"\")]\n",
        "test_df = test_df.reset_index(drop=True)\n"
      ]
    },
    {
      "cell_type": "markdown",
      "id": "f184d638",
      "metadata": {},
      "source": [
        "These lines clean the DFS by removing rows where either dialogue or summary is missing or empty, then reset the index for convenience. This helps ensure the model trains on valid, meaningful data."
      ]
    },
    {
      "cell_type": "code",
      "execution_count": 15,
      "id": "51939a0f",
      "metadata": {
        "id": "51939a0f"
      },
      "outputs": [],
      "source": [
        "# !pip install datasets"
      ]
    },
    {
      "cell_type": "code",
      "execution_count": 16,
      "id": "2c8bda41",
      "metadata": {
        "colab": {
          "base_uri": "https://localhost:8080/"
        },
        "id": "2c8bda41",
        "outputId": "865bd450-5175-48e9-fb0f-806f4198027d"
      },
      "outputs": [
        {
          "name": "stdout",
          "output_type": "stream",
          "text": [
            "(14731, 3)\n",
            "(818, 3)\n",
            "(819, 3)\n"
          ]
        }
      ],
      "source": [
        "print(train_df.shape)\n",
        "print(val_df.shape)\n",
        "print(test_df.shape)\n",
        "#examine shapes of each"
      ]
    },
    {
      "cell_type": "markdown",
      "id": "80ef7146",
      "metadata": {
        "id": "80ef7146"
      },
      "source": [
        "## Step 1.2 Analyze Characteristics and Dialogue Summaries"
      ]
    },
    {
      "cell_type": "code",
      "execution_count": 17,
      "id": "8fc54091",
      "metadata": {
        "id": "8fc54091"
      },
      "outputs": [],
      "source": [
        "# Add length columns\n",
        "train_df['dialogue_len'] = train_df['dialogue'].apply(lambda x: len(str(x).split()))\n",
        "train_df['summary_len'] = train_df['summary'].apply(lambda x: len(str(x).split()))"
      ]
    },
    {
      "cell_type": "markdown",
      "id": "dc55ce8c",
      "metadata": {},
      "source": [
        "To better understand the dataset, calculate and store the number of words in each dialogue and summary. This helps inform tokenization limits and model configuration."
      ]
    },
    {
      "cell_type": "code",
      "execution_count": 18,
      "id": "43003f04",
      "metadata": {
        "colab": {
          "base_uri": "https://localhost:8080/"
        },
        "id": "43003f04",
        "outputId": "5f09f8a7-0663-4319-ffc3-9ba31f43417a"
      },
      "outputs": [
        {
          "name": "stdout",
          "output_type": "stream",
          "text": [
            "\n",
            "Dialogue Lengths:\n",
            "count    14731.000000\n",
            "mean        93.792750\n",
            "std         74.031937\n",
            "min          7.000000\n",
            "25%         39.000000\n",
            "50%         73.000000\n",
            "75%        128.000000\n",
            "max        803.000000\n",
            "Name: dialogue_len, dtype: float64\n",
            "\n",
            "Summary Lengths:\n",
            "count    14731.000000\n",
            "mean        20.318444\n",
            "std         11.153570\n",
            "min          1.000000\n",
            "25%         12.000000\n",
            "50%         18.000000\n",
            "75%         27.000000\n",
            "max         64.000000\n",
            "Name: summary_len, dtype: float64\n"
          ]
        }
      ],
      "source": [
        "print(\"\\nDialogue Lengths:\")\n",
        "print(train_df['dialogue_len'].describe())\n",
        "\n",
        "print(\"\\nSummary Lengths:\")\n",
        "print(train_df['summary_len'].describe())\n",
        "#get summary statistics"
      ]
    },
    {
      "cell_type": "code",
      "execution_count": 19,
      "id": "509909c3",
      "metadata": {
        "colab": {
          "base_uri": "https://localhost:8080/"
        },
        "id": "509909c3",
        "outputId": "a7fb262d-e951-4806-8e65-d0162d9f64ad"
      },
      "outputs": [
        {
          "name": "stdout",
          "output_type": "stream",
          "text": [
            "Nulls in train set:\n",
            "id              0\n",
            "dialogue        0\n",
            "summary         0\n",
            "dialogue_len    0\n",
            "summary_len     0\n",
            "dtype: int64\n"
          ]
        }
      ],
      "source": [
        "#Check for null values\n",
        "print(\"Nulls in train set:\")\n",
        "print(train_df.isnull().sum())"
      ]
    },
    {
      "cell_type": "code",
      "execution_count": 20,
      "id": "1a2565dc",
      "metadata": {
        "id": "1a2565dc"
      },
      "outputs": [],
      "source": [
        "train_df = train_df.dropna(subset=[\"dialogue\"]).reset_index(drop=True) #drop the 1 null"
      ]
    },
    {
      "cell_type": "code",
      "execution_count": 21,
      "id": "2596ccbc",
      "metadata": {
        "colab": {
          "base_uri": "https://localhost:8080/",
          "height": 507
        },
        "id": "2596ccbc",
        "outputId": "2dbfe0d3-56fb-4488-fe39-a499e2a39eaf"
      },
      "outputs": [
        {
          "data": {
            "image/png": "[encoded data removed]",
            "text/plain": [
              "<Figure size 1200x500 with 2 Axes>"
            ]
          },
          "metadata": {},
          "output_type": "display_data"
        }
      ],
      "source": [
        "#visuzlize the distriburions\n",
        "plt.figure(figsize=(12, 5))\n",
        "\n",
        "plt.subplot(1, 2, 1)\n",
        "train_df['dialogue_len'].hist(bins=40)\n",
        "plt.title('Dialogue Length Distribution')\n",
        "plt.xlabel('Number of Words')\n",
        "plt.ylabel('Frequency')\n",
        "\n",
        "plt.subplot(1, 2, 2)\n",
        "train_df['summary_len'].hist(bins=40)\n",
        "plt.title('Summary Length Distribution')\n",
        "plt.xlabel('Number of Words')\n",
        "\n",
        "plt.tight_layout()\n",
        "plt.show()"
      ]
    },
    {
      "cell_type": "markdown",
      "id": "e2328d42",
      "metadata": {},
      "source": [
        "## Step 1.3 Prepare the Data for Input to the BERT Model"
      ]
    },
    {
      "cell_type": "code",
      "execution_count": 22,
      "id": "e0a4a31f",
      "metadata": {
        "id": "e0a4a31f"
      },
      "outputs": [],
      "source": [
        "# Step 1: Clean DataFrames\n",
        "train_df = train_df.dropna(subset=[\"dialogue\", \"summary\"]).reset_index(drop=True)\n",
        "val_df = val_df.dropna(subset=[\"dialogue\", \"summary\"]).reset_index(drop=True)\n",
        "test_df = test_df.dropna(subset=[\"dialogue\", \"summary\"]).reset_index(drop=True)\n",
        "\n",
        "# Step 2: Convert to Hugging Face Dataset\n",
        "from datasets import Dataset\n",
        "train_dataset = Dataset.from_pandas(train_df[[\"dialogue\", \"summary\"]])\n",
        "val_dataset = Dataset.from_pandas(val_df[[\"dialogue\", \"summary\"]])\n",
        "test_dataset = Dataset.from_pandas(test_df[[\"dialogue\", \"summary\"]])\n"
      ]
    },
    {
      "cell_type": "markdown",
      "id": "2194e3f8",
      "metadata": {},
      "source": [
        "The SAMSum dataset already came split. I have a test.csv, train.csv, and validation.csv\n",
        "\n",
        "The cleaned train, validation, and test DataFrames are converted into Hugging Face dataset objects. This enables streamlined integration with tokenizers and training pipelines. A necessary step in this process."
      ]
    },
    {
      "cell_type": "code",
      "execution_count": 23,
      "id": "e970997e",
      "metadata": {
        "colab": {
          "base_uri": "https://localhost:8080/"
        },
        "id": "e970997e",
        "outputId": "6bf004af-da0b-4a86-e1f0-fee7d2d44523"
      },
      "outputs": [],
      "source": [
        "#Implement appropriate tokenization\n",
        "from transformers import BartTokenizer, BartForConditionalGeneration\n",
        "\n",
        "# Load pretrained BART tokenizer and model\n",
        "\n",
        "tokenizer = BartTokenizer.from_pretrained(\"facebook/bart-base\")\n",
        "model = BartForConditionalGeneration.from_pretrained(\"facebook/bart-base\")\n",
        "\n",
        "model.config.decoder_start_token_id = tokenizer.cls_token_id\n",
        "\n",
        "# Define tokenization function to tokenize both dialogue (inputs) and summary (labels)\n",
        "\n",
        "def tokenize_function(examples):\n",
        "    inputs = tokenizer(examples[\"dialogue\"],\n",
        "                       max_length=128, truncation=True, padding=\"longest\")\n",
        "    with tokenizer.as_target_tokenizer():\n",
        "        labels = tokenizer(examples[\"summary\"],\n",
        "                           max_length=128, truncation=True, padding=\"longest\")\n",
        "    pad = tokenizer.pad_token_id\n",
        "    labels[\"input_ids\"] = [\n",
        "        [(tok if tok != pad else -100) for tok in seq] for seq in labels[\"input_ids\"] # Replace padding token in labels with -100 to ignore them during loss calculation\n",
        "    ]\n",
        "    inputs[\"labels\"] = labels[\"input_ids\"]\n",
        "    return inputs\n"
      ]
    },
    {
      "cell_type": "markdown",
      "id": "5821290b",
      "metadata": {},
      "source": [
        "This step loads the pretrained facebook/bart-base tokenizer and model, then defines a tokenization function. \n",
        "- The function tokenizes both the dialogue (input) and summary (target).\n",
        "- Padding is applied to the longest sequence.\n",
        "- Padding tokens in the target are replaced with -100 so that the loss function ignores them during training.\n",
        "\n",
        "I spent a lot of time trying to get BERT to work. As soon as I switched over to BART, I had instantly differnet success.\n",
        "\n",
        "Padding:\n",
        "When training models like BART, all sequences in a batch must be the same length. Since dialogues and summaries vary in length, we pad shorter sequences with a special token ([PAD]) to match the longest one in the batch.\n",
        "\n",
        "For the inputs, this is handled automatically by the attention mask, which tells the model to ignore padded tokens during encoding.\n",
        "\n",
        "For the labels (summaries), we must manually replace [PAD] tokens with -100 so that the loss function ignores them during training. If this step is skipped, the model will try to predict [PAD] tokens, inflating accuracy and misleading you with artificially low training loss.\n",
        "\n",
        "Early in my project, I saw unusually strong training scores — this was because I hadn’t properly masked out padding in the labels, and the model was being rewarded for predicting meaningless [PAD] tokens.\n"
      ]
    },
    {
      "cell_type": "code",
      "execution_count": 24,
      "id": "bdbcd0f0",
      "metadata": {
        "colab": {
          "base_uri": "https://localhost:8080/",
          "height": 169,
          "referenced_widgets": [
            "78604c2ba561432fb440d8b0c363a863",
            "de51e57ffa91422e823ea329b616ea51",
            "6c8392a7f5674a9d9b05078d2cf3cb20",
            "a3ac017a223545aeae245eaf701e0a08",
            "58c17ee5a0c74440812f48c838f11989",
            "1e73b7045bf44782bcb27fecef1c8def",
            "1bf42ad593a843088d8c4ecba9fcfc76",
            "1f9e218aa1fc4fe7b27bba4237afecd0",
            "0d96da0c1e8e43ec94b236b0bab726cc",
            "b986409f807444feac66db0a7840452d",
            "6a41acce02c14e18bf8e8a770674237b",
            "e080e81ed52149fc824cad8867d5d7d5",
            "9462e16a16fa419dab0ac87108c116ca",
            "c36eee1c8c1c4d53a08d4a935539209c",
            "6a00e0ff11824614803a7f3ba19dd585",
            "c0f437fb4c5f43c4b773a0df076df5a3",
            "0cad518a56bc445ea1ba53ff978b4e39",
            "f4d4c5d7ce274359a48a2041ed72200e",
            "e67b2822ad7547048b195cc13f2fbfb7",
            "6b7d953491d4433e9c05580aeb038bfd",
            "2155a3855c654c52a6052ffc6c2ea71b",
            "de927bb8886643d991040b061120093a",
            "de26554c0d044e2dac0ee10623b80429",
            "75192a1b578a4203914dc67c53c3412a",
            "036fadddedf84cc98b7799e441755246",
            "468d94959f7f4d13b9c377322c6190e2",
            "014614edec944b3ca3c5159a483698f5",
            "47b886d819134c5ba036d97f7f0712b8",
            "25d10ab0d96b49b8b4128751cd36b5f5",
            "27ef6d02ab41446ba0e0645dc17ecccf",
            "be742c34602247b0a73e89c1a17ae825",
            "df21c25f2ac74cf88a0f3216b43c182e",
            "0e9a8b8db8b74aafbcc1ec8bebb4bc92"
          ]
        },
        "id": "bdbcd0f0",
        "outputId": "0e0942fd-d84d-412d-b3ea-50f277cec062"
      },
      "outputs": [
        {
          "data": {
            "application/vnd.jupyter.widget-view+json": {
              "model_id": "d0df696233c34578af89ed65b1cfefb9",
              "version_major": 2,
              "version_minor": 0
            },
            "text/plain": [
              "Map:   0%|          | 0/14731 [00:00<?, ? examples/s]"
            ]
          },
          "metadata": {},
          "output_type": "display_data"
        },
        {
          "name": "stderr",
          "output_type": "stream",
          "text": [
            "/opt/anaconda3/envs/churn-xgb/lib/python3.10/site-packages/transformers/tokenization_utils_base.py:3946: UserWarning: `as_target_tokenizer` is deprecated and will be removed in v5 of Transformers. You can tokenize your labels by using the argument `text_target` of the regular `__call__` method (either in the same call as your input texts if you use the same keyword arguments, or in a separate call.\n",
            "  warnings.warn(\n"
          ]
        },
        {
          "data": {
            "application/vnd.jupyter.widget-view+json": {
              "model_id": "a38a99d192e84055a7c8af6a359af575",
              "version_major": 2,
              "version_minor": 0
            },
            "text/plain": [
              "Map:   0%|          | 0/818 [00:00<?, ? examples/s]"
            ]
          },
          "metadata": {},
          "output_type": "display_data"
        },
        {
          "data": {
            "application/vnd.jupyter.widget-view+json": {
              "model_id": "eff6d42d919344d0b3294ec3dfef65f9",
              "version_major": 2,
              "version_minor": 0
            },
            "text/plain": [
              "Map:   0%|          | 0/819 [00:00<?, ? examples/s]"
            ]
          },
          "metadata": {},
          "output_type": "display_data"
        }
      ],
      "source": [
        "model.config.pad_token_id = tokenizer.pad_token_id #this sets the model's padding token ID to match the tokenizer's [PAD] token.\n",
        "# model.config.vocab_size = model.config.encoder.vocab_size #line removed when swithced to BART because BART knows its Vocab size\n",
        "\n",
        "#apply the tokenize function to each dataset\n",
        "tokenized_train = train_dataset.map(tokenize_function, batched=True)\n",
        "tokenized_val = val_dataset.map(tokenize_function, batched=True)\n",
        "tokenized_test = test_dataset.map(tokenize_function, batched=True)"
      ]
    },
    {
      "cell_type": "markdown",
      "id": "da90d1c9",
      "metadata": {},
      "source": [
        "Before tokenizing, we configure the model to recognize the [PAD] token used during preprocessing. This ensures that padding tokens are properly ignored during loss computation.\n",
        "\n",
        "pad_token_id is explicitly set to match the tokenizer's pad token.\n",
        "\n",
        "The vocab_size line is commented out because BART's pretrained config already sets it correctly.\n",
        "\n",
        "We then apply the  tokenize_function to the train, validation, and test datasets using .map() with batching enabled. This function tokenizes both dialogues and summaries, pads them to uniform length, and replaces padding in labels with -100 (ignore if [PAD] is output) so they are ignored during loss calculation."
      ]
    },
    {
      "cell_type": "code",
      "execution_count": 25,
      "id": "5c5778de",
      "metadata": {
        "colab": {
          "base_uri": "https://localhost:8080/",
          "height": 49,
          "referenced_widgets": [
            "ab0bc1475f3b4f219aedcd53ebf03dd2",
            "f6900db4c5c54667ac5192593ac8d9f1",
            "cba41170aaa442e792f7699b76b1c37c",
            "de2f7a76e3c74f9c8f96b8beae64aeb3",
            "c313afc7a51f450080c3372ea5d53cad",
            "dff4830384f54a208d374e1d86f88acb",
            "7cb4de1cc4324871a8db84bcb39f93ce",
            "c9baf154f8014866b0b93b082de18796",
            "95e9703574c046719d03108a7d8f37c1",
            "03d61b4292414801b198894ceb117464",
            "cec50120c052461cb79f36f342ce11ba"
          ]
        },
        "id": "5c5778de",
        "outputId": "0f426de2-3a84-4c14-ec79-09250c511729"
      },
      "outputs": [
        {
          "data": {
            "application/vnd.jupyter.widget-view+json": {
              "model_id": "31bf9a2255a04fc7b9f17d38f322d47d",
              "version_major": 2,
              "version_minor": 0
            },
            "text/plain": [
              "Filter:   0%|          | 0/14731 [00:00<?, ? examples/s]"
            ]
          },
          "metadata": {},
          "output_type": "display_data"
        }
      ],
      "source": [
        "tokenized_train = tokenized_train.filter(lambda x: len(x[\"input_ids\"]) > 0) #from gpt to proceed"
      ]
    },
    {
      "cell_type": "markdown",
      "id": "4973e442",
      "metadata": {},
      "source": [
        "Remove any samples from the training set where the input_ids list is empty. This prevents passing invalid or empty sequences to the model during training. LLM suggested adding this line of code. This was implemented early when I had errors with BERT. It did not seem to hurt the performance so I left it in."
      ]
    },
    {
      "cell_type": "code",
      "execution_count": 26,
      "id": "9cff33be",
      "metadata": {
        "id": "9cff33be"
      },
      "outputs": [],
      "source": [
        "tokenized_train.set_format(\"torch\", columns=[\"input_ids\", \"attention_mask\", \"labels\"])\n",
        "tokenized_val.set_format(\"torch\", columns=[\"input_ids\", \"attention_mask\", \"labels\"])\n",
        "tokenized_test.set_format(\"torch\", columns=[\"input_ids\", \"attention_mask\", \"labels\"])\n",
        "#formatting for pytorch use"
      ]
    },
    {
      "cell_type": "code",
      "execution_count": 27,
      "id": "45dd7cd5",
      "metadata": {
        "id": "45dd7cd5"
      },
      "outputs": [],
      "source": [
        "small_train_dataset = tokenized_train.select(range(2000))\n",
        "small_val_dataset   = tokenized_val.select(range(400))\n",
        "#creating small dataset for training"
      ]
    },
    {
      "cell_type": "markdown",
      "id": "fbfa8077",
      "metadata": {},
      "source": [
        "Originally ran 100 samples and 50 validation to test loop. It trained locally, but did not have any luck with actual summarization/did not learn anything.\n",
        "\n",
        "I then changed to 500 samples and 100 validation over 3 epochs. Training took about 4 hours, but the model was unable to summarize. This was done with BERT.\n",
        "\n",
        "I switched to BART, was able to access GPU and ran 2000 samples with 400 validation. Eventually I did not train on the small datasets and trained on the entire SAMSum dataset."
      ]
    },
    {
      "cell_type": "code",
      "execution_count": 28,
      "id": "5e78e1ca",
      "metadata": {
        "id": "5e78e1ca"
      },
      "outputs": [],
      "source": [
        "from torch.utils.data import DataLoader\n",
        "from transformers import DataCollatorForSeq2Seq\n",
        "#create a collator that pads dynamically to the longest sequence in each batch\n",
        "collator = DataCollatorForSeq2Seq(tokenizer, model=model, padding=\"longest\")\n",
        "\n",
        "#create PyTorch DataLoaders for the small training and validation subsets\n",
        "train_dataloader = DataLoader(small_train_dataset, batch_size=2, shuffle=True, collate_fn=collator) #collate_fn=collator ensures dynamic padding per batch\n",
        "val_dataloader = DataLoader(small_val_dataset, batch_size=2, collate_fn=collator)"
      ]
    },
    {
      "cell_type": "markdown",
      "id": "c428e5cc",
      "metadata": {},
      "source": [
        "This code block prepares PyTorch DataLoaders for training and validation. It uses a DataCollatorForSeq2Seq to dynamically pad sequences in each batch to the longest length, ensuring all tensors align properly during training. Again, I encountered this as a trianing issue early on as well. \"arrays did not match length\"."
      ]
    },
    {
      "cell_type": "markdown",
      "id": "a1de6e8a",
      "metadata": {},
      "source": [
        "## Step 2: Model Architecture Implementation"
      ]
    },
    {
      "cell_type": "code",
      "execution_count": null,
      "id": "35447d4d",
      "metadata": {
        "colab": {
          "base_uri": "https://localhost:8080/"
        },
        "id": "35447d4d",
        "outputId": "ff37b8cc-6844-4e69-fb7e-6b14afa30a37"
      },
      "outputs": [
        {
          "name": "stdout",
          "output_type": "stream",
          "text": [
            "Encoder frozen; only decoder & cross-attention will train.\n"
          ]
        }
      ],
      "source": [
        "#model config\n",
        "#model.config.eos_token_id = tokenizer.sep_token_id remove in BART\n",
        "model.config.max_length = 128 #max length of summaries\n",
        "model.config.no_repeat_ngram_size = 3 #no repeats of n-gram size\n",
        "model.config.early_stopping = True #implement eraly stopping\n",
        "\n",
        "# Freeze the encoder for speed. Print confirmation that it is frozen. Comment out if not using\n",
        "for p in model.get_encoder().parameters():\n",
        "    p.requires_grad_(False)\n",
        "print(\"Encoder frozen; only decoder & cross-attention will train.\")"
      ]
    },
    {
      "cell_type": "markdown",
      "id": "6540bc8a",
      "metadata": {},
      "source": [
        " These parameters don’t affect training directly, but they help improve generation quality during validation or testing by limiting redundancy and unnecessary length.\n",
        "\n",
        " Can choose to comment/uncomment the for loop for freezing the encoder. Freezing the encoder skips gradient computation and weight updates for it, reducing training time. It focuses training only on the decoder and cross-attention layers. Adding it back in increases computation time, but could increase performance."
      ]
    },
    {
      "cell_type": "markdown",
      "id": "b0c76bef",
      "metadata": {},
      "source": [
        "Freezing the encoder helped with speed of the training. This was removed for the final model training."
      ]
    },
    {
      "cell_type": "code",
      "execution_count": 30,
      "id": "14826229",
      "metadata": {
        "colab": {
          "base_uri": "https://localhost:8080/"
        },
        "id": "14826229",
        "outputId": "8ffd9ced-a4e4-48fc-fa05-763684f497fa"
      },
      "outputs": [
        {
          "data": {
            "text/plain": [
              "BartForConditionalGeneration(\n",
              "  (model): BartModel(\n",
              "    (shared): Embedding(50265, 768, padding_idx=1)\n",
              "    (encoder): BartEncoder(\n",
              "      (embed_tokens): BartScaledWordEmbedding(50265, 768, padding_idx=1)\n",
              "      (embed_positions): BartLearnedPositionalEmbedding(1026, 768)\n",
              "      (layers): ModuleList(\n",
              "        (0-5): 6 x BartEncoderLayer(\n",
              "          (self_attn): BartSdpaAttention(\n",
              "            (k_proj): Linear(in_features=768, out_features=768, bias=True)\n",
              "            (v_proj): Linear(in_features=768, out_features=768, bias=True)\n",
              "            (q_proj): Linear(in_features=768, out_features=768, bias=True)\n",
              "            (out_proj): Linear(in_features=768, out_features=768, bias=True)\n",
              "          )\n",
              "          (self_attn_layer_norm): LayerNorm((768,), eps=1e-05, elementwise_affine=True)\n",
              "          (activation_fn): GELUActivation()\n",
              "          (fc1): Linear(in_features=768, out_features=3072, bias=True)\n",
              "          (fc2): Linear(in_features=3072, out_features=768, bias=True)\n",
              "          (final_layer_norm): LayerNorm((768,), eps=1e-05, elementwise_affine=True)\n",
              "        )\n",
              "      )\n",
              "      (layernorm_embedding): LayerNorm((768,), eps=1e-05, elementwise_affine=True)\n",
              "    )\n",
              "    (decoder): BartDecoder(\n",
              "      (embed_tokens): BartScaledWordEmbedding(50265, 768, padding_idx=1)\n",
              "      (embed_positions): BartLearnedPositionalEmbedding(1026, 768)\n",
              "      (layers): ModuleList(\n",
              "        (0-5): 6 x BartDecoderLayer(\n",
              "          (self_attn): BartSdpaAttention(\n",
              "            (k_proj): Linear(in_features=768, out_features=768, bias=True)\n",
              "            (v_proj): Linear(in_features=768, out_features=768, bias=True)\n",
              "            (q_proj): Linear(in_features=768, out_features=768, bias=True)\n",
              "            (out_proj): Linear(in_features=768, out_features=768, bias=True)\n",
              "          )\n",
              "          (activation_fn): GELUActivation()\n",
              "          (self_attn_layer_norm): LayerNorm((768,), eps=1e-05, elementwise_affine=True)\n",
              "          (encoder_attn): BartSdpaAttention(\n",
              "            (k_proj): Linear(in_features=768, out_features=768, bias=True)\n",
              "            (v_proj): Linear(in_features=768, out_features=768, bias=True)\n",
              "            (q_proj): Linear(in_features=768, out_features=768, bias=True)\n",
              "            (out_proj): Linear(in_features=768, out_features=768, bias=True)\n",
              "          )\n",
              "          (encoder_attn_layer_norm): LayerNorm((768,), eps=1e-05, elementwise_affine=True)\n",
              "          (fc1): Linear(in_features=768, out_features=3072, bias=True)\n",
              "          (fc2): Linear(in_features=3072, out_features=768, bias=True)\n",
              "          (final_layer_norm): LayerNorm((768,), eps=1e-05, elementwise_affine=True)\n",
              "        )\n",
              "      )\n",
              "      (layernorm_embedding): LayerNorm((768,), eps=1e-05, elementwise_affine=True)\n",
              "    )\n",
              "  )\n",
              "  (lm_head): Linear(in_features=768, out_features=50265, bias=False)\n",
              ")"
            ]
          },
          "execution_count": 30,
          "metadata": {},
          "output_type": "execute_result"
        }
      ],
      "source": [
        "from torch.optim import AdamW\n",
        "import torch.nn as nn\n",
        "import torch\n",
        "\n",
        "optimizer = AdamW(model.parameters(), lr=3e-5) #bart 3e-5\n",
        "# loss_fn = nn.CrossEntropyLoss(ignore_index=tokenizer.pad_token_id) #BART does this\n",
        "\n",
        "device = torch.device(\"cuda\" if torch.cuda.is_available() else \"cpu\") #help make sure GPU was used\n",
        "model.to(device)"
      ]
    },
    {
      "cell_type": "markdown",
      "id": "db859239",
      "metadata": {},
      "source": [
        "Used ADAM optimizer and a googled recommended learning rate of 3e-5"
      ]
    },
    {
      "cell_type": "code",
      "execution_count": null,
      "id": "2BOfswC0lWVJ",
      "metadata": {
        "id": "2BOfswC0lWVJ"
      },
      "outputs": [],
      "source": [
        "num_epochs = 3 #can change for training purposes\n",
        "\n",
        "ACCUM = 8                     # effective batch size = 2 × 8 = 16\n",
        "steps_per_epoch = len(train_dataloader) // ACCUM\n",
        "\n",
        "#set warmup to i\n",
        "from transformers import get_linear_schedule_with_warmup\n",
        "scheduler = get_linear_schedule_with_warmup(\n",
        "    optimizer,\n",
        "    num_warmup_steps=max(50, int(0.1 * steps_per_epoch * num_epochs)),\n",
        "    num_training_steps=steps_per_epoch * num_epochs,)\n"
      ]
    },
    {
      "cell_type": "markdown",
      "id": "72127651",
      "metadata": {},
      "source": [
        "Jumping straight to a high learning rate at the beginning of training can destabilize the model. Warm-up gradually increases the learning rate from a small value to the target value over a fixed number of steps (in this case, 50+ steps or 10% of total steps)."
      ]
    },
    {
      "cell_type": "markdown",
      "id": "7aa2f875",
      "metadata": {},
      "source": [
        "## Step 3 Training and Optimization"
      ]
    },
    {
      "cell_type": "code",
      "execution_count": 32,
      "id": "f14f3eb6",
      "metadata": {
        "colab": {
          "base_uri": "https://localhost:8080/"
        },
        "id": "f14f3eb6",
        "outputId": "a680b008-901f-4175-ce43-6fb5af803d82"
      },
      "outputs": [],
      "source": [
        "#Loop below. Ran on Google Collab and downloaded locally\n",
        "# from tqdm import tqdm\n",
        "\n",
        "# for epoch in range(num_epochs): #repeart for each epoch\n",
        "#     print(f\"\\nEpoch {epoch+1}/{num_epochs}\")\n",
        "#     model.train()\n",
        "#     running_train = 0 #tracks cummulative loss\n",
        "#     step = 0\n",
        "\n",
        "#     #train\n",
        "#     for batch in tqdm(train_dataloader, desc=f\"Training\"): #tdqm shows progress bar while training \n",
        "#         input_ids      = batch[\"input_ids\"].to(device) #to device is gpu\n",
        "#         attention_mask = batch[\"attention_mask\"].to(device)\n",
        "#         labels         = batch[\"labels\"].to(device)\n",
        "##Runs the model forward and computes the loss.\n",
        "#         outputs = model(input_ids=input_ids, \n",
        "#                         attention_mask=attention_mask,\n",
        "#                         labels=labels)\n",
        "\n",
        "#         loss = outputs.loss / ACCUM          # scale for accumulation \n",
        "#         loss.backward()\n",
        "#         running_train += loss.item() * ACCUM\n",
        "#         step += 1\n",
        "\n",
        "#         # update every ACCUM mini-batches\n",
        "#         if step % ACCUM == 0:\n",
        "#             torch.nn.utils.clip_grad_norm_(model.parameters(), 1.0)\n",
        "#             optimizer.step(); scheduler.step(); optimizer.zero_grad()\n",
        "\n",
        "#     avg_train = running_train / step\n",
        "#     print(f\"Avg Training Loss: {avg_train:.4f}\")\n",
        "\n",
        "#     #validate\n",
        "#     model.eval()\n",
        "#     running_val = 0; v_steps = 0\n",
        "#     with torch.no_grad():\n",
        "#         for batch in tqdm(val_dataloader, desc=\"Validating\"):\n",
        "#             input_ids      = batch[\"input_ids\"].to(device)\n",
        "#             attention_mask = batch[\"attention_mask\"].to(device)\n",
        "#             labels         = batch[\"labels\"].to(device)\n",
        "\n",
        "#             loss = model(input_ids=input_ids,\n",
        "#                          attention_mask=attention_mask,\n",
        "#                          labels=labels).loss\n",
        "#             running_val += loss.item(); v_steps += 1\n",
        "\n",
        "#     avg_val = running_val / v_steps\n",
        "#     print(f\"Avg Validation Loss: {avg_val:.4f}\")\n",
        "\n",
        "\n"
      ]
    },
    {
      "cell_type": "code",
      "execution_count": null,
      "id": "5QCEQv_6ztEa",
      "metadata": {
        "colab": {
          "base_uri": "https://localhost:8080/"
        },
        "id": "5QCEQv_6ztEa",
        "outputId": "83548621-3a42-46d0-ccdb-46c91c2ed15f"
      },
      "outputs": [
        {
          "name": "stderr",
          "output_type": "stream",
          "text": [
            "/opt/anaconda3/envs/churn-xgb/lib/python3.10/site-packages/transformers/generation/configuration_utils.py:554: UserWarning: `num_beams` is set to None - defaulting to 1.\n",
            "  warnings.warn(\"`num_beams` is set to None - defaulting to 1.\", UserWarning)\n",
            "Your max_length is set to 60, but your input_length is only 24. Since this is a summarization task, where outputs shorter than the input are typically wanted, you might consider decreasing max_length manually, e.g. summarizer('...', max_length=12)\n"
          ]
        },
        {
          "name": "stdout",
          "output_type": "stream",
          "text": [
            "Amanda baked cookies. Jerry will pick them up after 3.\n"
          ]
        }
      ],
      "source": [
        "from transformers import BartTokenizer, BartForConditionalGeneration, pipeline\n",
        "\n",
        "# MODEL_DIR = (\"/Users/spencerpolans/Example Folder/Capstone/Project 3/\"\"bart-model/bart-samsum-2000-v1\")  #local path for testing. #change to your local path to use model\n",
        "MODEL_DIR = (\"/Users/spencerpolans/Example Folder/Capstone/Project 3/\"\"bart-samsum-full-5\") \n",
        "tok   = BartTokenizer.from_pretrained(MODEL_DIR)\n",
        "model = BartForConditionalGeneration.from_pretrained(MODEL_DIR)\n",
        "\n",
        "summ = pipeline(\"summarization\", model=model, tokenizer=tok, max_length=60, min_length=10, num_beams=6)\n",
        "\n",
        "print(summ(\"Amanda: I baked cookies.\\nJerry: Nice!\\nAmanda: Pick them up after 3.\")[0][\"summary_text\"])\n"
      ]
    },
    {
      "cell_type": "code",
      "execution_count": null,
      "id": "422e585f",
      "metadata": {},
      "outputs": [
        {
          "name": "stdout",
          "output_type": "stream",
          "text": [
            "DIALOGUE:\n",
            " Ramzi: Mom is calling for supper\n",
            "Jannette: Ok Im coming \n",
            "Ramzi: 👍\n",
            "\n",
            " REFERENCE SUMMARY:\n",
            " Ramzi and Jannette are going for supper.\n",
            "\n",
            " GENERATED SUMMARY:\n",
            " Ramzi's mom is calling for supper. Jannette is coming.\n"
          ]
        }
      ],
      "source": [
        "# Pick a single dialogue from the validation or test DataFrame\n",
        "sample_row = val_df.iloc[20]  #can pick any number\n",
        "\n",
        "dialogue_text = sample_row[\"dialogue\"]\n",
        "reference_summary = sample_row[\"summary\"]\n",
        "\n",
        "# Tokenize and generate prediction\n",
        "inputs = tok(dialogue_text, return_tensors=\"pt\", max_length=128, truncation=True).to(model.device)\n",
        "\n",
        "with torch.no_grad():\n",
        "    generated_ids = model.generate(\n",
        "        **inputs,\n",
        "        max_length=320,\n",
        "        min_length=10,\n",
        "        num_beams=6,\n",
        "        length_penalty=1.0,\n",
        "        no_repeat_ngram_size=3,\n",
        "        early_stopping=True,)\n",
        "\n",
        "generated_summary = tok.decode(generated_ids[0], skip_special_tokens=True)\n",
        "\n",
        "# Print\n",
        "print(\"DIALOGUE:\\n\", dialogue_text)\n",
        "print(\"\\n REFERENCE SUMMARY:\\n\", reference_summary)\n",
        "print(\"\\n GENERATED SUMMARY:\\n\", generated_summary)\n"
      ]
    },
    {
      "cell_type": "markdown",
      "id": "71fbb237",
      "metadata": {
        "id": "71fbb237"
      },
      "source": [
        "## Step 4 Evaluation and Analysis"
      ]
    },
    {
      "cell_type": "code",
      "execution_count": 36,
      "id": "5683fa40",
      "metadata": {
        "id": "5683fa40"
      },
      "outputs": [],
      "source": [
        "# !pip install rouge_score"
      ]
    },
    {
      "cell_type": "code",
      "execution_count": 37,
      "id": "d5c1dd0a",
      "metadata": {
        "id": "d5c1dd0a"
      },
      "outputs": [],
      "source": [
        "# !pip install evaluate"
      ]
    },
    {
      "cell_type": "code",
      "execution_count": null,
      "id": "132794da",
      "metadata": {},
      "outputs": [
        {
          "data": {
            "application/vnd.jupyter.widget-view+json": {
              "model_id": "ae3eef561fff4d3880698f7f052057d0",
              "version_major": 2,
              "version_minor": 0
            },
            "text/plain": [
              "Map:   0%|          | 0/818 [00:00<?, ? examples/s]"
            ]
          },
          "metadata": {},
          "output_type": "display_data"
        },
        {
          "name": "stdout",
          "output_type": "stream",
          "text": [
            "{'rouge1': 50.49, 'rouge2': 26.32, 'rougeL': 41.78, 'rougeLsum': 41.83}\n"
          ]
        }
      ],
      "source": [
        "from datasets import Dataset\n",
        "import evaluate, torch\n",
        "\n",
        "#Convert the DataFrame → Dataset  (one line)\n",
        "val_ds = Dataset.from_pandas(val_df[[\"dialogue\", \"summary\"]])\n",
        "\n",
        "#Generate predictions in batches for scoring\n",
        "def generate(batch):\n",
        "    inputs = tok(\n",
        "        batch[\"dialogue\"],\n",
        "        max_length=128, truncation=True, padding=\"longest\",\n",
        "        return_tensors=\"pt\"\n",
        "    ).to(model.device)\n",
        "\n",
        "    with torch.no_grad(): #can change these parameters to try to improve rouge scores\n",
        "        gen_ids = model.generate(\n",
        "            **inputs,\n",
        "            max_length=64, min_length=10,\n",
        "            num_beams=4, length_penalty=1.5,\n",
        "            no_repeat_ngram_size=2, early_stopping=True,\n",
        "        )\n",
        "    batch[\"pred\"] = tok.batch_decode(gen_ids, skip_special_tokens=True)\n",
        "    return batch\n",
        "\n",
        "pred_ds = val_ds.map(generate, batched=True, batch_size=16)\n",
        "\n",
        "#Compute ROUGE\n",
        "rouge = evaluate.load(\"rouge\")\n",
        "scores = rouge.compute(\n",
        "    predictions=pred_ds[\"pred\"],\n",
        "    references=pred_ds[\"summary\"],\n",
        "    use_stemmer=True,\n",
        ")\n",
        "print({k: round(v * 100, 2) for k, v in scores.items()})\n"
      ]
    },
    {
      "cell_type": "markdown",
      "id": "9296d7a0",
      "metadata": {},
      "source": [
        "Initial ROUGE values (bart-model): {'rouge1': 42.39, 'rouge2': 19.31, 'rougeL': 35.21, 'rougeLsum': 35.15}: bart-samsum-2000-v1\n",
        "\n",
        "Excellent results. Close to being in line with what I would define success as. Per my project pitch: \"For ROUGE-1 I will look at >= 0.45, ROUGE-2 >= 0.20, and ROUGE L >= 0.40. A preliminary google search indicated that scores should fall between the range of 0.3-0.5 (but can vary).\" \n",
        "\n",
        "Training on full set (bart-samsum-full):\n",
        "{'rouge1': 46.94, 'rouge2': 22.53, 'rougeL': 38.47, 'rougeLsum': 38.5}\n",
        "\n",
        "Training on the full dataset improved the model! We can see the largest increase in rouge2 by percentage increase (bigrams). I am comfortable with these results! I am going to unfreeze the encoder and train on more epochs to see if there is improvement.\n",
        "\n",
        "Unfreezing the encoder and training on 5 epochs (bart-samsum-full-5):\n",
        "{'rouge1': 50.49, 'rouge2': 26.32, 'rougeL': 41.78, 'rougeLsum': 41.83}\n",
        "\n",
        "Wow! What an improvement! These results exceed what my pitch shot for! Unfreezing the encoder and increasing the sample size has demonstrated significant metric improvement. My model is now producing coherent outputs that, in some cases, I feel does a better job with summarization than the human level summaries. "
      ]
    },
    {
      "cell_type": "markdown",
      "id": "ef315787",
      "metadata": {
        "id": "ef315787"
      },
      "source": [
        "## Resource Management\n",
        "\n",
        "Trying to be cognizant of local resource usage. Full training could take hours. I am doing the following to start:\n",
        "\n",
        "1) Only working on a small subset of the dataset\n",
        "2) Using a smaller batch size \n",
        "3) Limiting number of epochs (1)\n",
        "4) Move training in Collab. GPU access"
      ]
    },
    {
      "cell_type": "markdown",
      "id": "0133823b",
      "metadata": {},
      "source": [
        "## Additional Thoughts and Reflection\n",
        "\n",
        "In my first attempt, the model was mostly learning the wrong things. It spent a lot of time focusing on padding tokens, which are just placeholders and don’t carry any real meaning. These padding tokens were also being included in the model’s expected outputs, so it was actually being rewarded for predicting them... which led to incoherent outputs (periods, tokens). On top of that, the encoder (a big part of the model) was still training, which wasn’t helpful because my dataset was so small. I was also training with tiny batches, which made the learning very unstable. The learning rate didn’t adjust over time, so the training started off too fast and then didn’t improve much.\n",
        "\n",
        "In order to correc this I made several changes. Firstly, I changed the padding. I told the model to ignore padding tokens (setting them as -100). I froze the encoder so the model cold focus on summary generation and set the learning rate. These changes made training faster and helped the model actually learn.\n",
        "\n",
        "Obviously the biggest factor here is the change from BERT2BERT to a BART based model. BART is a better choice for summarization than BERT because it was designed as a sequence to sequence model which makes it suited for this specific task of generating summaries. BERT, in contrast, is only an encoder which limits the ability to generate coherent outputs(something I saw plenty when testing).\n",
        "\n",
        "\n",
        "\n",
        "\n",
        "\n"
      ]
    },
    {
      "cell_type": "markdown",
      "id": "42a6909e",
      "metadata": {},
      "source": [
        "## Business Implications\n",
        "\n",
        "Given the strength of the initial model (ROUGE score >35), this successfully fulfills the business goal of ACME Communications of summarizing group chats. This should reduce information overload for users, improve engagement by making conversations more accessible, and enhance the platform by utilizing AI. A feasible prototype has been developed as seen by the above summaries generated. Some additional benefits are:\n",
        "1)\tReduces cognitive load: users no longer would have to go through dozens or hundreds of messages. The idea would be to extract the key points from the conversation which would allow the user to re-engage with the platform even after prolonged inactivity.\n",
        "2)\tEnhanced Value: Theoretically we could generate on-demand summaries (be it daily or weekly). This allows the user to be informed without constantly being online. If you’re on vacation, you can easily catch up once you are back to work. This should greatly improve productivity and communication amongst individuals and professional teams.\n",
        "3)\tMonetization Opportunities: “Premium” tools can be monetized (maybe something like key alerts).\n",
        "4) In various fields this can used outside of dialogue conversation. Perhaps it can help summarize lengthy documents; helping in faster decision making.\n",
        "5) Competitve Differentiation: this is not something that is widely used in the industry. This could help differentiate ACME as a unique selling point and drive profits.\n",
        "\n",
        "By having all of this, a well-performing summarization model can help both internal and external facing features."
      ]
    }
  ],
  "metadata": {
    "accelerator": "GPU",
    "colab": {
      "gpuType": "T4",
      "provenance": []
    },
    "kernelspec": {
      "display_name": "churn-xgb",
      "language": "python",
      "name": "python3"
    },
    "language_info": {
      "codemirror_mode": {
        "name": "ipython",
        "version": 3
      },
      "file_extension": ".py",
      "mimetype": "text/x-python",
      "name": "python",
      "nbconvert_exporter": "python",
      "pygments_lexer": "ipython3",
      "version": "3.10.17"
    },
    "widgets": {
      "application/vnd.jupyter.widget-state+json": {
        "014614edec944b3ca3c5159a483698f5": {
          "model_module": "@jupyter-widgets/base",
          "model_module_version": "1.2.0",
          "model_name": "LayoutModel",
          "state": {
            "_model_module": "@jupyter-widgets/base",
            "_model_module_version": "1.2.0",
            "_model_name": "LayoutModel",
            "_view_count": null,
            "_view_module": "@jupyter-widgets/base",
            "_view_module_version": "1.2.0",
            "_view_name": "LayoutView",
            "align_content": null,
            "align_items": null,
            "align_self": null,
            "border": null,
            "bottom": null,
            "display": null,
            "flex": null,
            "flex_flow": null,
            "grid_area": null,
            "grid_auto_columns": null,
            "grid_auto_flow": null,
            "grid_auto_rows": null,
            "grid_column": null,
            "grid_gap": null,
            "grid_row": null,
            "grid_template_areas": null,
            "grid_template_columns": null,
            "grid_template_rows": null,
            "height": null,
            "justify_content": null,
            "justify_items": null,
            "left": null,
            "margin": null,
            "max_height": null,
            "max_width": null,
            "min_height": null,
            "min_width": null,
            "object_fit": null,
            "object_position": null,
            "order": null,
            "overflow": null,
            "overflow_x": null,
            "overflow_y": null,
            "padding": null,
            "right": null,
            "top": null,
            "visibility": null,
            "width": null
          }
        },
        "036fadddedf84cc98b7799e441755246": {
          "model_module": "@jupyter-widgets/controls",
          "model_module_version": "1.5.0",
          "model_name": "FloatProgressModel",
          "state": {
            "_dom_classes": [],
            "_model_module": "@jupyter-widgets/controls",
            "_model_module_version": "1.5.0",
            "_model_name": "FloatProgressModel",
            "_view_count": null,
            "_view_module": "@jupyter-widgets/controls",
            "_view_module_version": "1.5.0",
            "_view_name": "ProgressView",
            "bar_style": "success",
            "description": "",
            "description_tooltip": null,
            "layout": "IPY_MODEL_27ef6d02ab41446ba0e0645dc17ecccf",
            "max": 819,
            "min": 0,
            "orientation": "horizontal",
            "style": "IPY_MODEL_be742c34602247b0a73e89c1a17ae825",
            "value": 819
          }
        },
        "03d61b4292414801b198894ceb117464": {
          "model_module": "@jupyter-widgets/base",
          "model_module_version": "1.2.0",
          "model_name": "LayoutModel",
          "state": {
            "_model_module": "@jupyter-widgets/base",
            "_model_module_version": "1.2.0",
            "_model_name": "LayoutModel",
            "_view_count": null,
            "_view_module": "@jupyter-widgets/base",
            "_view_module_version": "1.2.0",
            "_view_name": "LayoutView",
            "align_content": null,
            "align_items": null,
            "align_self": null,
            "border": null,
            "bottom": null,
            "display": null,
            "flex": null,
            "flex_flow": null,
            "grid_area": null,
            "grid_auto_columns": null,
            "grid_auto_flow": null,
            "grid_auto_rows": null,
            "grid_column": null,
            "grid_gap": null,
            "grid_row": null,
            "grid_template_areas": null,
            "grid_template_columns": null,
            "grid_template_rows": null,
            "height": null,
            "justify_content": null,
            "justify_items": null,
            "left": null,
            "margin": null,
            "max_height": null,
            "max_width": null,
            "min_height": null,
            "min_width": null,
            "object_fit": null,
            "object_position": null,
            "order": null,
            "overflow": null,
            "overflow_x": null,
            "overflow_y": null,
            "padding": null,
            "right": null,
            "top": null,
            "visibility": null,
            "width": null
          }
        },
        "0cad518a56bc445ea1ba53ff978b4e39": {
          "model_module": "@jupyter-widgets/base",
          "model_module_version": "1.2.0",
          "model_name": "LayoutModel",
          "state": {
            "_model_module": "@jupyter-widgets/base",
            "_model_module_version": "1.2.0",
            "_model_name": "LayoutModel",
            "_view_count": null,
            "_view_module": "@jupyter-widgets/base",
            "_view_module_version": "1.2.0",
            "_view_name": "LayoutView",
            "align_content": null,
            "align_items": null,
            "align_self": null,
            "border": null,
            "bottom": null,
            "display": null,
            "flex": null,
            "flex_flow": null,
            "grid_area": null,
            "grid_auto_columns": null,
            "grid_auto_flow": null,
            "grid_auto_rows": null,
            "grid_column": null,
            "grid_gap": null,
            "grid_row": null,
            "grid_template_areas": null,
            "grid_template_columns": null,
            "grid_template_rows": null,
            "height": null,
            "justify_content": null,
            "justify_items": null,
            "left": null,
            "margin": null,
            "max_height": null,
            "max_width": null,
            "min_height": null,
            "min_width": null,
            "object_fit": null,
            "object_position": null,
            "order": null,
            "overflow": null,
            "overflow_x": null,
            "overflow_y": null,
            "padding": null,
            "right": null,
            "top": null,
            "visibility": null,
            "width": null
          }
        },
        "0d96da0c1e8e43ec94b236b0bab726cc": {
          "model_module": "@jupyter-widgets/controls",
          "model_module_version": "1.5.0",
          "model_name": "ProgressStyleModel",
          "state": {
            "_model_module": "@jupyter-widgets/controls",
            "_model_module_version": "1.5.0",
            "_model_name": "ProgressStyleModel",
            "_view_count": null,
            "_view_module": "@jupyter-widgets/base",
            "_view_module_version": "1.2.0",
            "_view_name": "StyleView",
            "bar_color": null,
            "description_width": ""
          }
        },
        "0e9a8b8db8b74aafbcc1ec8bebb4bc92": {
          "model_module": "@jupyter-widgets/controls",
          "model_module_version": "1.5.0",
          "model_name": "DescriptionStyleModel",
          "state": {
            "_model_module": "@jupyter-widgets/controls",
            "_model_module_version": "1.5.0",
            "_model_name": "DescriptionStyleModel",
            "_view_count": null,
            "_view_module": "@jupyter-widgets/base",
            "_view_module_version": "1.2.0",
            "_view_name": "StyleView",
            "description_width": ""
          }
        },
        "1bf42ad593a843088d8c4ecba9fcfc76": {
          "model_module": "@jupyter-widgets/controls",
          "model_module_version": "1.5.0",
          "model_name": "DescriptionStyleModel",
          "state": {
            "_model_module": "@jupyter-widgets/controls",
            "_model_module_version": "1.5.0",
            "_model_name": "DescriptionStyleModel",
            "_view_count": null,
            "_view_module": "@jupyter-widgets/base",
            "_view_module_version": "1.2.0",
            "_view_name": "StyleView",
            "description_width": ""
          }
        },
        "1e73b7045bf44782bcb27fecef1c8def": {
          "model_module": "@jupyter-widgets/base",
          "model_module_version": "1.2.0",
          "model_name": "LayoutModel",
          "state": {
            "_model_module": "@jupyter-widgets/base",
            "_model_module_version": "1.2.0",
            "_model_name": "LayoutModel",
            "_view_count": null,
            "_view_module": "@jupyter-widgets/base",
            "_view_module_version": "1.2.0",
            "_view_name": "LayoutView",
            "align_content": null,
            "align_items": null,
            "align_self": null,
            "border": null,
            "bottom": null,
            "display": null,
            "flex": null,
            "flex_flow": null,
            "grid_area": null,
            "grid_auto_columns": null,
            "grid_auto_flow": null,
            "grid_auto_rows": null,
            "grid_column": null,
            "grid_gap": null,
            "grid_row": null,
            "grid_template_areas": null,
            "grid_template_columns": null,
            "grid_template_rows": null,
            "height": null,
            "justify_content": null,
            "justify_items": null,
            "left": null,
            "margin": null,
            "max_height": null,
            "max_width": null,
            "min_height": null,
            "min_width": null,
            "object_fit": null,
            "object_position": null,
            "order": null,
            "overflow": null,
            "overflow_x": null,
            "overflow_y": null,
            "padding": null,
            "right": null,
            "top": null,
            "visibility": null,
            "width": null
          }
        },
        "1f9e218aa1fc4fe7b27bba4237afecd0": {
          "model_module": "@jupyter-widgets/base",
          "model_module_version": "1.2.0",
          "model_name": "LayoutModel",
          "state": {
            "_model_module": "@jupyter-widgets/base",
            "_model_module_version": "1.2.0",
            "_model_name": "LayoutModel",
            "_view_count": null,
            "_view_module": "@jupyter-widgets/base",
            "_view_module_version": "1.2.0",
            "_view_name": "LayoutView",
            "align_content": null,
            "align_items": null,
            "align_self": null,
            "border": null,
            "bottom": null,
            "display": null,
            "flex": null,
            "flex_flow": null,
            "grid_area": null,
            "grid_auto_columns": null,
            "grid_auto_flow": null,
            "grid_auto_rows": null,
            "grid_column": null,
            "grid_gap": null,
            "grid_row": null,
            "grid_template_areas": null,
            "grid_template_columns": null,
            "grid_template_rows": null,
            "height": null,
            "justify_content": null,
            "justify_items": null,
            "left": null,
            "margin": null,
            "max_height": null,
            "max_width": null,
            "min_height": null,
            "min_width": null,
            "object_fit": null,
            "object_position": null,
            "order": null,
            "overflow": null,
            "overflow_x": null,
            "overflow_y": null,
            "padding": null,
            "right": null,
            "top": null,
            "visibility": null,
            "width": null
          }
        },
        "2155a3855c654c52a6052ffc6c2ea71b": {
          "model_module": "@jupyter-widgets/base",
          "model_module_version": "1.2.0",
          "model_name": "LayoutModel",
          "state": {
            "_model_module": "@jupyter-widgets/base",
            "_model_module_version": "1.2.0",
            "_model_name": "LayoutModel",
            "_view_count": null,
            "_view_module": "@jupyter-widgets/base",
            "_view_module_version": "1.2.0",
            "_view_name": "LayoutView",
            "align_content": null,
            "align_items": null,
            "align_self": null,
            "border": null,
            "bottom": null,
            "display": null,
            "flex": null,
            "flex_flow": null,
            "grid_area": null,
            "grid_auto_columns": null,
            "grid_auto_flow": null,
            "grid_auto_rows": null,
            "grid_column": null,
            "grid_gap": null,
            "grid_row": null,
            "grid_template_areas": null,
            "grid_template_columns": null,
            "grid_template_rows": null,
            "height": null,
            "justify_content": null,
            "justify_items": null,
            "left": null,
            "margin": null,
            "max_height": null,
            "max_width": null,
            "min_height": null,
            "min_width": null,
            "object_fit": null,
            "object_position": null,
            "order": null,
            "overflow": null,
            "overflow_x": null,
            "overflow_y": null,
            "padding": null,
            "right": null,
            "top": null,
            "visibility": null,
            "width": null
          }
        },
        "25d10ab0d96b49b8b4128751cd36b5f5": {
          "model_module": "@jupyter-widgets/controls",
          "model_module_version": "1.5.0",
          "model_name": "DescriptionStyleModel",
          "state": {
            "_model_module": "@jupyter-widgets/controls",
            "_model_module_version": "1.5.0",
            "_model_name": "DescriptionStyleModel",
            "_view_count": null,
            "_view_module": "@jupyter-widgets/base",
            "_view_module_version": "1.2.0",
            "_view_name": "StyleView",
            "description_width": ""
          }
        },
        "27ef6d02ab41446ba0e0645dc17ecccf": {
          "model_module": "@jupyter-widgets/base",
          "model_module_version": "1.2.0",
          "model_name": "LayoutModel",
          "state": {
            "_model_module": "@jupyter-widgets/base",
            "_model_module_version": "1.2.0",
            "_model_name": "LayoutModel",
            "_view_count": null,
            "_view_module": "@jupyter-widgets/base",
            "_view_module_version": "1.2.0",
            "_view_name": "LayoutView",
            "align_content": null,
            "align_items": null,
            "align_self": null,
            "border": null,
            "bottom": null,
            "display": null,
            "flex": null,
            "flex_flow": null,
            "grid_area": null,
            "grid_auto_columns": null,
            "grid_auto_flow": null,
            "grid_auto_rows": null,
            "grid_column": null,
            "grid_gap": null,
            "grid_row": null,
            "grid_template_areas": null,
            "grid_template_columns": null,
            "grid_template_rows": null,
            "height": null,
            "justify_content": null,
            "justify_items": null,
            "left": null,
            "margin": null,
            "max_height": null,
            "max_width": null,
            "min_height": null,
            "min_width": null,
            "object_fit": null,
            "object_position": null,
            "order": null,
            "overflow": null,
            "overflow_x": null,
            "overflow_y": null,
            "padding": null,
            "right": null,
            "top": null,
            "visibility": null,
            "width": null
          }
        },
        "468d94959f7f4d13b9c377322c6190e2": {
          "model_module": "@jupyter-widgets/controls",
          "model_module_version": "1.5.0",
          "model_name": "HTMLModel",
          "state": {
            "_dom_classes": [],
            "_model_module": "@jupyter-widgets/controls",
            "_model_module_version": "1.5.0",
            "_model_name": "HTMLModel",
            "_view_count": null,
            "_view_module": "@jupyter-widgets/controls",
            "_view_module_version": "1.5.0",
            "_view_name": "HTMLView",
            "description": "",
            "description_tooltip": null,
            "layout": "IPY_MODEL_df21c25f2ac74cf88a0f3216b43c182e",
            "placeholder": "​",
            "style": "IPY_MODEL_0e9a8b8db8b74aafbcc1ec8bebb4bc92",
            "value": " 819/819 [00:01&lt;00:00, 683.97 examples/s]"
          }
        },
        "47b886d819134c5ba036d97f7f0712b8": {
          "model_module": "@jupyter-widgets/base",
          "model_module_version": "1.2.0",
          "model_name": "LayoutModel",
          "state": {
            "_model_module": "@jupyter-widgets/base",
            "_model_module_version": "1.2.0",
            "_model_name": "LayoutModel",
            "_view_count": null,
            "_view_module": "@jupyter-widgets/base",
            "_view_module_version": "1.2.0",
            "_view_name": "LayoutView",
            "align_content": null,
            "align_items": null,
            "align_self": null,
            "border": null,
            "bottom": null,
            "display": null,
            "flex": null,
            "flex_flow": null,
            "grid_area": null,
            "grid_auto_columns": null,
            "grid_auto_flow": null,
            "grid_auto_rows": null,
            "grid_column": null,
            "grid_gap": null,
            "grid_row": null,
            "grid_template_areas": null,
            "grid_template_columns": null,
            "grid_template_rows": null,
            "height": null,
            "justify_content": null,
            "justify_items": null,
            "left": null,
            "margin": null,
            "max_height": null,
            "max_width": null,
            "min_height": null,
            "min_width": null,
            "object_fit": null,
            "object_position": null,
            "order": null,
            "overflow": null,
            "overflow_x": null,
            "overflow_y": null,
            "padding": null,
            "right": null,
            "top": null,
            "visibility": null,
            "width": null
          }
        },
        "58c17ee5a0c74440812f48c838f11989": {
          "model_module": "@jupyter-widgets/base",
          "model_module_version": "1.2.0",
          "model_name": "LayoutModel",
          "state": {
            "_model_module": "@jupyter-widgets/base",
            "_model_module_version": "1.2.0",
            "_model_name": "LayoutModel",
            "_view_count": null,
            "_view_module": "@jupyter-widgets/base",
            "_view_module_version": "1.2.0",
            "_view_name": "LayoutView",
            "align_content": null,
            "align_items": null,
            "align_self": null,
            "border": null,
            "bottom": null,
            "display": null,
            "flex": null,
            "flex_flow": null,
            "grid_area": null,
            "grid_auto_columns": null,
            "grid_auto_flow": null,
            "grid_auto_rows": null,
            "grid_column": null,
            "grid_gap": null,
            "grid_row": null,
            "grid_template_areas": null,
            "grid_template_columns": null,
            "grid_template_rows": null,
            "height": null,
            "justify_content": null,
            "justify_items": null,
            "left": null,
            "margin": null,
            "max_height": null,
            "max_width": null,
            "min_height": null,
            "min_width": null,
            "object_fit": null,
            "object_position": null,
            "order": null,
            "overflow": null,
            "overflow_x": null,
            "overflow_y": null,
            "padding": null,
            "right": null,
            "top": null,
            "visibility": null,
            "width": null
          }
        },
        "6a00e0ff11824614803a7f3ba19dd585": {
          "model_module": "@jupyter-widgets/controls",
          "model_module_version": "1.5.0",
          "model_name": "HTMLModel",
          "state": {
            "_dom_classes": [],
            "_model_module": "@jupyter-widgets/controls",
            "_model_module_version": "1.5.0",
            "_model_name": "HTMLModel",
            "_view_count": null,
            "_view_module": "@jupyter-widgets/controls",
            "_view_module_version": "1.5.0",
            "_view_name": "HTMLView",
            "description": "",
            "description_tooltip": null,
            "layout": "IPY_MODEL_2155a3855c654c52a6052ffc6c2ea71b",
            "placeholder": "​",
            "style": "IPY_MODEL_de927bb8886643d991040b061120093a",
            "value": " 818/818 [00:01&lt;00:00, 771.64 examples/s]"
          }
        },
        "6a41acce02c14e18bf8e8a770674237b": {
          "model_module": "@jupyter-widgets/controls",
          "model_module_version": "1.5.0",
          "model_name": "DescriptionStyleModel",
          "state": {
            "_model_module": "@jupyter-widgets/controls",
            "_model_module_version": "1.5.0",
            "_model_name": "DescriptionStyleModel",
            "_view_count": null,
            "_view_module": "@jupyter-widgets/base",
            "_view_module_version": "1.2.0",
            "_view_name": "StyleView",
            "description_width": ""
          }
        },
        "6b7d953491d4433e9c05580aeb038bfd": {
          "model_module": "@jupyter-widgets/controls",
          "model_module_version": "1.5.0",
          "model_name": "ProgressStyleModel",
          "state": {
            "_model_module": "@jupyter-widgets/controls",
            "_model_module_version": "1.5.0",
            "_model_name": "ProgressStyleModel",
            "_view_count": null,
            "_view_module": "@jupyter-widgets/base",
            "_view_module_version": "1.2.0",
            "_view_name": "StyleView",
            "bar_color": null,
            "description_width": ""
          }
        },
        "6c8392a7f5674a9d9b05078d2cf3cb20": {
          "model_module": "@jupyter-widgets/controls",
          "model_module_version": "1.5.0",
          "model_name": "FloatProgressModel",
          "state": {
            "_dom_classes": [],
            "_model_module": "@jupyter-widgets/controls",
            "_model_module_version": "1.5.0",
            "_model_name": "FloatProgressModel",
            "_view_count": null,
            "_view_module": "@jupyter-widgets/controls",
            "_view_module_version": "1.5.0",
            "_view_name": "ProgressView",
            "bar_style": "success",
            "description": "",
            "description_tooltip": null,
            "layout": "IPY_MODEL_1f9e218aa1fc4fe7b27bba4237afecd0",
            "max": 14731,
            "min": 0,
            "orientation": "horizontal",
            "style": "IPY_MODEL_0d96da0c1e8e43ec94b236b0bab726cc",
            "value": 14731
          }
        },
        "75192a1b578a4203914dc67c53c3412a": {
          "model_module": "@jupyter-widgets/controls",
          "model_module_version": "1.5.0",
          "model_name": "HTMLModel",
          "state": {
            "_dom_classes": [],
            "_model_module": "@jupyter-widgets/controls",
            "_model_module_version": "1.5.0",
            "_model_name": "HTMLModel",
            "_view_count": null,
            "_view_module": "@jupyter-widgets/controls",
            "_view_module_version": "1.5.0",
            "_view_name": "HTMLView",
            "description": "",
            "description_tooltip": null,
            "layout": "IPY_MODEL_47b886d819134c5ba036d97f7f0712b8",
            "placeholder": "​",
            "style": "IPY_MODEL_25d10ab0d96b49b8b4128751cd36b5f5",
            "value": "Map: 100%"
          }
        },
        "78604c2ba561432fb440d8b0c363a863": {
          "model_module": "@jupyter-widgets/controls",
          "model_module_version": "1.5.0",
          "model_name": "HBoxModel",
          "state": {
            "_dom_classes": [],
            "_model_module": "@jupyter-widgets/controls",
            "_model_module_version": "1.5.0",
            "_model_name": "HBoxModel",
            "_view_count": null,
            "_view_module": "@jupyter-widgets/controls",
            "_view_module_version": "1.5.0",
            "_view_name": "HBoxView",
            "box_style": "",
            "children": [
              "IPY_MODEL_de51e57ffa91422e823ea329b616ea51",
              "IPY_MODEL_6c8392a7f5674a9d9b05078d2cf3cb20",
              "IPY_MODEL_a3ac017a223545aeae245eaf701e0a08"
            ],
            "layout": "IPY_MODEL_58c17ee5a0c74440812f48c838f11989"
          }
        },
        "7cb4de1cc4324871a8db84bcb39f93ce": {
          "model_module": "@jupyter-widgets/controls",
          "model_module_version": "1.5.0",
          "model_name": "DescriptionStyleModel",
          "state": {
            "_model_module": "@jupyter-widgets/controls",
            "_model_module_version": "1.5.0",
            "_model_name": "DescriptionStyleModel",
            "_view_count": null,
            "_view_module": "@jupyter-widgets/base",
            "_view_module_version": "1.2.0",
            "_view_name": "StyleView",
            "description_width": ""
          }
        },
        "9462e16a16fa419dab0ac87108c116ca": {
          "model_module": "@jupyter-widgets/controls",
          "model_module_version": "1.5.0",
          "model_name": "HTMLModel",
          "state": {
            "_dom_classes": [],
            "_model_module": "@jupyter-widgets/controls",
            "_model_module_version": "1.5.0",
            "_model_name": "HTMLModel",
            "_view_count": null,
            "_view_module": "@jupyter-widgets/controls",
            "_view_module_version": "1.5.0",
            "_view_name": "HTMLView",
            "description": "",
            "description_tooltip": null,
            "layout": "IPY_MODEL_0cad518a56bc445ea1ba53ff978b4e39",
            "placeholder": "​",
            "style": "IPY_MODEL_f4d4c5d7ce274359a48a2041ed72200e",
            "value": "Map: 100%"
          }
        },
        "95e9703574c046719d03108a7d8f37c1": {
          "model_module": "@jupyter-widgets/controls",
          "model_module_version": "1.5.0",
          "model_name": "ProgressStyleModel",
          "state": {
            "_model_module": "@jupyter-widgets/controls",
            "_model_module_version": "1.5.0",
            "_model_name": "ProgressStyleModel",
            "_view_count": null,
            "_view_module": "@jupyter-widgets/base",
            "_view_module_version": "1.2.0",
            "_view_name": "StyleView",
            "bar_color": null,
            "description_width": ""
          }
        },
        "a3ac017a223545aeae245eaf701e0a08": {
          "model_module": "@jupyter-widgets/controls",
          "model_module_version": "1.5.0",
          "model_name": "HTMLModel",
          "state": {
            "_dom_classes": [],
            "_model_module": "@jupyter-widgets/controls",
            "_model_module_version": "1.5.0",
            "_model_name": "HTMLModel",
            "_view_count": null,
            "_view_module": "@jupyter-widgets/controls",
            "_view_module_version": "1.5.0",
            "_view_name": "HTMLView",
            "description": "",
            "description_tooltip": null,
            "layout": "IPY_MODEL_b986409f807444feac66db0a7840452d",
            "placeholder": "​",
            "style": "IPY_MODEL_6a41acce02c14e18bf8e8a770674237b",
            "value": " 14731/14731 [00:22&lt;00:00, 662.29 examples/s]"
          }
        },
        "ab0bc1475f3b4f219aedcd53ebf03dd2": {
          "model_module": "@jupyter-widgets/controls",
          "model_module_version": "1.5.0",
          "model_name": "HBoxModel",
          "state": {
            "_dom_classes": [],
            "_model_module": "@jupyter-widgets/controls",
            "_model_module_version": "1.5.0",
            "_model_name": "HBoxModel",
            "_view_count": null,
            "_view_module": "@jupyter-widgets/controls",
            "_view_module_version": "1.5.0",
            "_view_name": "HBoxView",
            "box_style": "",
            "children": [
              "IPY_MODEL_f6900db4c5c54667ac5192593ac8d9f1",
              "IPY_MODEL_cba41170aaa442e792f7699b76b1c37c",
              "IPY_MODEL_de2f7a76e3c74f9c8f96b8beae64aeb3"
            ],
            "layout": "IPY_MODEL_c313afc7a51f450080c3372ea5d53cad"
          }
        },
        "b986409f807444feac66db0a7840452d": {
          "model_module": "@jupyter-widgets/base",
          "model_module_version": "1.2.0",
          "model_name": "LayoutModel",
          "state": {
            "_model_module": "@jupyter-widgets/base",
            "_model_module_version": "1.2.0",
            "_model_name": "LayoutModel",
            "_view_count": null,
            "_view_module": "@jupyter-widgets/base",
            "_view_module_version": "1.2.0",
            "_view_name": "LayoutView",
            "align_content": null,
            "align_items": null,
            "align_self": null,
            "border": null,
            "bottom": null,
            "display": null,
            "flex": null,
            "flex_flow": null,
            "grid_area": null,
            "grid_auto_columns": null,
            "grid_auto_flow": null,
            "grid_auto_rows": null,
            "grid_column": null,
            "grid_gap": null,
            "grid_row": null,
            "grid_template_areas": null,
            "grid_template_columns": null,
            "grid_template_rows": null,
            "height": null,
            "justify_content": null,
            "justify_items": null,
            "left": null,
            "margin": null,
            "max_height": null,
            "max_width": null,
            "min_height": null,
            "min_width": null,
            "object_fit": null,
            "object_position": null,
            "order": null,
            "overflow": null,
            "overflow_x": null,
            "overflow_y": null,
            "padding": null,
            "right": null,
            "top": null,
            "visibility": null,
            "width": null
          }
        },
        "be742c34602247b0a73e89c1a17ae825": {
          "model_module": "@jupyter-widgets/controls",
          "model_module_version": "1.5.0",
          "model_name": "ProgressStyleModel",
          "state": {
            "_model_module": "@jupyter-widgets/controls",
            "_model_module_version": "1.5.0",
            "_model_name": "ProgressStyleModel",
            "_view_count": null,
            "_view_module": "@jupyter-widgets/base",
            "_view_module_version": "1.2.0",
            "_view_name": "StyleView",
            "bar_color": null,
            "description_width": ""
          }
        },
        "c0f437fb4c5f43c4b773a0df076df5a3": {
          "model_module": "@jupyter-widgets/base",
          "model_module_version": "1.2.0",
          "model_name": "LayoutModel",
          "state": {
            "_model_module": "@jupyter-widgets/base",
            "_model_module_version": "1.2.0",
            "_model_name": "LayoutModel",
            "_view_count": null,
            "_view_module": "@jupyter-widgets/base",
            "_view_module_version": "1.2.0",
            "_view_name": "LayoutView",
            "align_content": null,
            "align_items": null,
            "align_self": null,
            "border": null,
            "bottom": null,
            "display": null,
            "flex": null,
            "flex_flow": null,
            "grid_area": null,
            "grid_auto_columns": null,
            "grid_auto_flow": null,
            "grid_auto_rows": null,
            "grid_column": null,
            "grid_gap": null,
            "grid_row": null,
            "grid_template_areas": null,
            "grid_template_columns": null,
            "grid_template_rows": null,
            "height": null,
            "justify_content": null,
            "justify_items": null,
            "left": null,
            "margin": null,
            "max_height": null,
            "max_width": null,
            "min_height": null,
            "min_width": null,
            "object_fit": null,
            "object_position": null,
            "order": null,
            "overflow": null,
            "overflow_x": null,
            "overflow_y": null,
            "padding": null,
            "right": null,
            "top": null,
            "visibility": null,
            "width": null
          }
        },
        "c313afc7a51f450080c3372ea5d53cad": {
          "model_module": "@jupyter-widgets/base",
          "model_module_version": "1.2.0",
          "model_name": "LayoutModel",
          "state": {
            "_model_module": "@jupyter-widgets/base",
            "_model_module_version": "1.2.0",
            "_model_name": "LayoutModel",
            "_view_count": null,
            "_view_module": "@jupyter-widgets/base",
            "_view_module_version": "1.2.0",
            "_view_name": "LayoutView",
            "align_content": null,
            "align_items": null,
            "align_self": null,
            "border": null,
            "bottom": null,
            "display": null,
            "flex": null,
            "flex_flow": null,
            "grid_area": null,
            "grid_auto_columns": null,
            "grid_auto_flow": null,
            "grid_auto_rows": null,
            "grid_column": null,
            "grid_gap": null,
            "grid_row": null,
            "grid_template_areas": null,
            "grid_template_columns": null,
            "grid_template_rows": null,
            "height": null,
            "justify_content": null,
            "justify_items": null,
            "left": null,
            "margin": null,
            "max_height": null,
            "max_width": null,
            "min_height": null,
            "min_width": null,
            "object_fit": null,
            "object_position": null,
            "order": null,
            "overflow": null,
            "overflow_x": null,
            "overflow_y": null,
            "padding": null,
            "right": null,
            "top": null,
            "visibility": null,
            "width": null
          }
        },
        "c36eee1c8c1c4d53a08d4a935539209c": {
          "model_module": "@jupyter-widgets/controls",
          "model_module_version": "1.5.0",
          "model_name": "FloatProgressModel",
          "state": {
            "_dom_classes": [],
            "_model_module": "@jupyter-widgets/controls",
            "_model_module_version": "1.5.0",
            "_model_name": "FloatProgressModel",
            "_view_count": null,
            "_view_module": "@jupyter-widgets/controls",
            "_view_module_version": "1.5.0",
            "_view_name": "ProgressView",
            "bar_style": "success",
            "description": "",
            "description_tooltip": null,
            "layout": "IPY_MODEL_e67b2822ad7547048b195cc13f2fbfb7",
            "max": 818,
            "min": 0,
            "orientation": "horizontal",
            "style": "IPY_MODEL_6b7d953491d4433e9c05580aeb038bfd",
            "value": 818
          }
        },
        "c9baf154f8014866b0b93b082de18796": {
          "model_module": "@jupyter-widgets/base",
          "model_module_version": "1.2.0",
          "model_name": "LayoutModel",
          "state": {
            "_model_module": "@jupyter-widgets/base",
            "_model_module_version": "1.2.0",
            "_model_name": "LayoutModel",
            "_view_count": null,
            "_view_module": "@jupyter-widgets/base",
            "_view_module_version": "1.2.0",
            "_view_name": "LayoutView",
            "align_content": null,
            "align_items": null,
            "align_self": null,
            "border": null,
            "bottom": null,
            "display": null,
            "flex": null,
            "flex_flow": null,
            "grid_area": null,
            "grid_auto_columns": null,
            "grid_auto_flow": null,
            "grid_auto_rows": null,
            "grid_column": null,
            "grid_gap": null,
            "grid_row": null,
            "grid_template_areas": null,
            "grid_template_columns": null,
            "grid_template_rows": null,
            "height": null,
            "justify_content": null,
            "justify_items": null,
            "left": null,
            "margin": null,
            "max_height": null,
            "max_width": null,
            "min_height": null,
            "min_width": null,
            "object_fit": null,
            "object_position": null,
            "order": null,
            "overflow": null,
            "overflow_x": null,
            "overflow_y": null,
            "padding": null,
            "right": null,
            "top": null,
            "visibility": null,
            "width": null
          }
        },
        "cba41170aaa442e792f7699b76b1c37c": {
          "model_module": "@jupyter-widgets/controls",
          "model_module_version": "1.5.0",
          "model_name": "FloatProgressModel",
          "state": {
            "_dom_classes": [],
            "_model_module": "@jupyter-widgets/controls",
            "_model_module_version": "1.5.0",
            "_model_name": "FloatProgressModel",
            "_view_count": null,
            "_view_module": "@jupyter-widgets/controls",
            "_view_module_version": "1.5.0",
            "_view_name": "ProgressView",
            "bar_style": "success",
            "description": "",
            "description_tooltip": null,
            "layout": "IPY_MODEL_c9baf154f8014866b0b93b082de18796",
            "max": 14731,
            "min": 0,
            "orientation": "horizontal",
            "style": "IPY_MODEL_95e9703574c046719d03108a7d8f37c1",
            "value": 14731
          }
        },
        "cec50120c052461cb79f36f342ce11ba": {
          "model_module": "@jupyter-widgets/controls",
          "model_module_version": "1.5.0",
          "model_name": "DescriptionStyleModel",
          "state": {
            "_model_module": "@jupyter-widgets/controls",
            "_model_module_version": "1.5.0",
            "_model_name": "DescriptionStyleModel",
            "_view_count": null,
            "_view_module": "@jupyter-widgets/base",
            "_view_module_version": "1.2.0",
            "_view_name": "StyleView",
            "description_width": ""
          }
        },
        "de26554c0d044e2dac0ee10623b80429": {
          "model_module": "@jupyter-widgets/controls",
          "model_module_version": "1.5.0",
          "model_name": "HBoxModel",
          "state": {
            "_dom_classes": [],
            "_model_module": "@jupyter-widgets/controls",
            "_model_module_version": "1.5.0",
            "_model_name": "HBoxModel",
            "_view_count": null,
            "_view_module": "@jupyter-widgets/controls",
            "_view_module_version": "1.5.0",
            "_view_name": "HBoxView",
            "box_style": "",
            "children": [
              "IPY_MODEL_75192a1b578a4203914dc67c53c3412a",
              "IPY_MODEL_036fadddedf84cc98b7799e441755246",
              "IPY_MODEL_468d94959f7f4d13b9c377322c6190e2"
            ],
            "layout": "IPY_MODEL_014614edec944b3ca3c5159a483698f5"
          }
        },
        "de2f7a76e3c74f9c8f96b8beae64aeb3": {
          "model_module": "@jupyter-widgets/controls",
          "model_module_version": "1.5.0",
          "model_name": "HTMLModel",
          "state": {
            "_dom_classes": [],
            "_model_module": "@jupyter-widgets/controls",
            "_model_module_version": "1.5.0",
            "_model_name": "HTMLModel",
            "_view_count": null,
            "_view_module": "@jupyter-widgets/controls",
            "_view_module_version": "1.5.0",
            "_view_name": "HTMLView",
            "description": "",
            "description_tooltip": null,
            "layout": "IPY_MODEL_03d61b4292414801b198894ceb117464",
            "placeholder": "​",
            "style": "IPY_MODEL_cec50120c052461cb79f36f342ce11ba",
            "value": " 14731/14731 [00:02&lt;00:00, 5812.59 examples/s]"
          }
        },
        "de51e57ffa91422e823ea329b616ea51": {
          "model_module": "@jupyter-widgets/controls",
          "model_module_version": "1.5.0",
          "model_name": "HTMLModel",
          "state": {
            "_dom_classes": [],
            "_model_module": "@jupyter-widgets/controls",
            "_model_module_version": "1.5.0",
            "_model_name": "HTMLModel",
            "_view_count": null,
            "_view_module": "@jupyter-widgets/controls",
            "_view_module_version": "1.5.0",
            "_view_name": "HTMLView",
            "description": "",
            "description_tooltip": null,
            "layout": "IPY_MODEL_1e73b7045bf44782bcb27fecef1c8def",
            "placeholder": "​",
            "style": "IPY_MODEL_1bf42ad593a843088d8c4ecba9fcfc76",
            "value": "Map: 100%"
          }
        },
        "de927bb8886643d991040b061120093a": {
          "model_module": "@jupyter-widgets/controls",
          "model_module_version": "1.5.0",
          "model_name": "DescriptionStyleModel",
          "state": {
            "_model_module": "@jupyter-widgets/controls",
            "_model_module_version": "1.5.0",
            "_model_name": "DescriptionStyleModel",
            "_view_count": null,
            "_view_module": "@jupyter-widgets/base",
            "_view_module_version": "1.2.0",
            "_view_name": "StyleView",
            "description_width": ""
          }
        },
        "df21c25f2ac74cf88a0f3216b43c182e": {
          "model_module": "@jupyter-widgets/base",
          "model_module_version": "1.2.0",
          "model_name": "LayoutModel",
          "state": {
            "_model_module": "@jupyter-widgets/base",
            "_model_module_version": "1.2.0",
            "_model_name": "LayoutModel",
            "_view_count": null,
            "_view_module": "@jupyter-widgets/base",
            "_view_module_version": "1.2.0",
            "_view_name": "LayoutView",
            "align_content": null,
            "align_items": null,
            "align_self": null,
            "border": null,
            "bottom": null,
            "display": null,
            "flex": null,
            "flex_flow": null,
            "grid_area": null,
            "grid_auto_columns": null,
            "grid_auto_flow": null,
            "grid_auto_rows": null,
            "grid_column": null,
            "grid_gap": null,
            "grid_row": null,
            "grid_template_areas": null,
            "grid_template_columns": null,
            "grid_template_rows": null,
            "height": null,
            "justify_content": null,
            "justify_items": null,
            "left": null,
            "margin": null,
            "max_height": null,
            "max_width": null,
            "min_height": null,
            "min_width": null,
            "object_fit": null,
            "object_position": null,
            "order": null,
            "overflow": null,
            "overflow_x": null,
            "overflow_y": null,
            "padding": null,
            "right": null,
            "top": null,
            "visibility": null,
            "width": null
          }
        },
        "dff4830384f54a208d374e1d86f88acb": {
          "model_module": "@jupyter-widgets/base",
          "model_module_version": "1.2.0",
          "model_name": "LayoutModel",
          "state": {
            "_model_module": "@jupyter-widgets/base",
            "_model_module_version": "1.2.0",
            "_model_name": "LayoutModel",
            "_view_count": null,
            "_view_module": "@jupyter-widgets/base",
            "_view_module_version": "1.2.0",
            "_view_name": "LayoutView",
            "align_content": null,
            "align_items": null,
            "align_self": null,
            "border": null,
            "bottom": null,
            "display": null,
            "flex": null,
            "flex_flow": null,
            "grid_area": null,
            "grid_auto_columns": null,
            "grid_auto_flow": null,
            "grid_auto_rows": null,
            "grid_column": null,
            "grid_gap": null,
            "grid_row": null,
            "grid_template_areas": null,
            "grid_template_columns": null,
            "grid_template_rows": null,
            "height": null,
            "justify_content": null,
            "justify_items": null,
            "left": null,
            "margin": null,
            "max_height": null,
            "max_width": null,
            "min_height": null,
            "min_width": null,
            "object_fit": null,
            "object_position": null,
            "order": null,
            "overflow": null,
            "overflow_x": null,
            "overflow_y": null,
            "padding": null,
            "right": null,
            "top": null,
            "visibility": null,
            "width": null
          }
        },
        "e080e81ed52149fc824cad8867d5d7d5": {
          "model_module": "@jupyter-widgets/controls",
          "model_module_version": "1.5.0",
          "model_name": "HBoxModel",
          "state": {
            "_dom_classes": [],
            "_model_module": "@jupyter-widgets/controls",
            "_model_module_version": "1.5.0",
            "_model_name": "HBoxModel",
            "_view_count": null,
            "_view_module": "@jupyter-widgets/controls",
            "_view_module_version": "1.5.0",
            "_view_name": "HBoxView",
            "box_style": "",
            "children": [
              "IPY_MODEL_9462e16a16fa419dab0ac87108c116ca",
              "IPY_MODEL_c36eee1c8c1c4d53a08d4a935539209c",
              "IPY_MODEL_6a00e0ff11824614803a7f3ba19dd585"
            ],
            "layout": "IPY_MODEL_c0f437fb4c5f43c4b773a0df076df5a3"
          }
        },
        "e67b2822ad7547048b195cc13f2fbfb7": {
          "model_module": "@jupyter-widgets/base",
          "model_module_version": "1.2.0",
          "model_name": "LayoutModel",
          "state": {
            "_model_module": "@jupyter-widgets/base",
            "_model_module_version": "1.2.0",
            "_model_name": "LayoutModel",
            "_view_count": null,
            "_view_module": "@jupyter-widgets/base",
            "_view_module_version": "1.2.0",
            "_view_name": "LayoutView",
            "align_content": null,
            "align_items": null,
            "align_self": null,
            "border": null,
            "bottom": null,
            "display": null,
            "flex": null,
            "flex_flow": null,
            "grid_area": null,
            "grid_auto_columns": null,
            "grid_auto_flow": null,
            "grid_auto_rows": null,
            "grid_column": null,
            "grid_gap": null,
            "grid_row": null,
            "grid_template_areas": null,
            "grid_template_columns": null,
            "grid_template_rows": null,
            "height": null,
            "justify_content": null,
            "justify_items": null,
            "left": null,
            "margin": null,
            "max_height": null,
            "max_width": null,
            "min_height": null,
            "min_width": null,
            "object_fit": null,
            "object_position": null,
            "order": null,
            "overflow": null,
            "overflow_x": null,
            "overflow_y": null,
            "padding": null,
            "right": null,
            "top": null,
            "visibility": null,
            "width": null
          }
        },
        "f4d4c5d7ce274359a48a2041ed72200e": {
          "model_module": "@jupyter-widgets/controls",
          "model_module_version": "1.5.0",
          "model_name": "DescriptionStyleModel",
          "state": {
            "_model_module": "@jupyter-widgets/controls",
            "_model_module_version": "1.5.0",
            "_model_name": "DescriptionStyleModel",
            "_view_count": null,
            "_view_module": "@jupyter-widgets/base",
            "_view_module_version": "1.2.0",
            "_view_name": "StyleView",
            "description_width": ""
          }
        },
        "f6900db4c5c54667ac5192593ac8d9f1": {
          "model_module": "@jupyter-widgets/controls",
          "model_module_version": "1.5.0",
          "model_name": "HTMLModel",
          "state": {
            "_dom_classes": [],
            "_model_module": "@jupyter-widgets/controls",
            "_model_module_version": "1.5.0",
            "_model_name": "HTMLModel",
            "_view_count": null,
            "_view_module": "@jupyter-widgets/controls",
            "_view_module_version": "1.5.0",
            "_view_name": "HTMLView",
            "description": "",
            "description_tooltip": null,
            "layout": "IPY_MODEL_dff4830384f54a208d374e1d86f88acb",
            "placeholder": "​",
            "style": "IPY_MODEL_7cb4de1cc4324871a8db84bcb39f93ce",
            "value": "Filter: 100%"
          }
        }
      }
    }
  },
  "nbformat": 4,
  "nbformat_minor": 5
}
